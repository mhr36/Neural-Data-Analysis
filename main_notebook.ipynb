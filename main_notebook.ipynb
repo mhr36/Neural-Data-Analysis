{
 "cells": [
  {
   "cell_type": "markdown",
   "id": "21e8e220",
   "metadata": {},
   "source": [
    "Let $\\tau_i$ denote the membrane time constant of neuron $i$. Then, up to the approximations related to the assumption of being in an Asynchronous Irregular state, we have the following forumalas for the mean and SD (standard deviation) of the input to different neurons. \n",
    "\n",
    "$\\mu_i = \\tau_i \\sum_j W_{ij} r_j + h_i$\n",
    "\n",
    "$\\sigma^2_i = \\tau_i \\sum_j W_{ij}^2 r_j + \\xi^2_i$\n",
    "\n",
    "where $h_i$ and $\\xi_i$ are the mean (which is positive) and SD of the external input, respectively.\n",
    "\n",
    "And then the output firing rate of each neuron is given by \n",
    "\n",
    "$r_i = \\Phi(\\mu_i, \\sigma_i) \\qquad\\qquad\\qquad$     (1)\n",
    "\n",
    "If I plug in the first two equations (where each is really $N$ equations) in the bottom one (again, really $N$ equations), then I obtain a system of $N$ equations for the $N$ unknowns, namely the $r_i$.  (part of) Your tasks is to solve this ssytem of equations. To do that, we will first promote these to time-dependent ODE's. These are auxiliary tools for us to find the fixed point, and are not really physical:\n",
    "\n",
    "$T_i\\frac{dr_i}{dt} + r_i = \\Phi(\\mu_i, \\sigma_i)$\n",
    "\n",
    "We will then solve these numerically using the Euler method (see my `utils_for_max.py`), and hope that the ODE's will converge onto a fixed point, which satisfies (1). The Euler discretization leads to\n",
    "\n",
    "$r_i(t+1) = (1 - \\alpha_i) r_i(t) + \\alpha_i \\Phi(\\mu_i, \\sigma_i)$\n",
    "\n",
    "where I defined $\\alpha_i = \\frac{\\delta t}{T_i}$. But to use `utils_for_max.Euler2fixedpt` you don't really need to do this, but you need to give it (as `dxdt`) the following:\n",
    "\n",
    "$T_i^{-1} (-r_i + \\Phi(\\mu_i, \\sigma_i))$ with the above expressions for $\\mu$ and $\\sigma$ plugged in. \n",
    "\n",
    "\n",
    "In the rest, I assume that you have already substituted the expressions for $\\mu_i$ and $\\sigma_i$, but won't write them explicitly for brevity.\n",
    "\n",
    "In the \n",
    "\n"
   ]
  },
  {
   "cell_type": "code",
   "execution_count": 1,
   "id": "7a1c015e",
   "metadata": {},
   "outputs": [],
   "source": [
    "import numpy as np\n",
    "from model import Model, theta_diff\n",
    "from utils_for_max import Phi, Euler2fixedpt\n",
    "import utils_for_max"
   ]
  },
  {
   "cell_type": "code",
   "execution_count": 2,
   "id": "1b445608",
   "metadata": {},
   "outputs": [
    {
     "name": "stdout",
     "output_type": "stream",
     "text": [
      "(array([0.00000000e+000, 0.00000000e+000, 2.77268659e-047, 2.77268659e-047,\n",
      "       0.00000000e+000, 0.00000000e+000, 0.00000000e+000, 2.00000000e+002,\n",
      "       0.00000000e+000, 0.00000000e+000, 0.00000000e+000, 2.00000000e+002,\n",
      "       0.00000000e+000, 0.00000000e+000, 2.77268659e-047, 0.00000000e+000,\n",
      "       0.00000000e+000, 7.38776614e-194, 2.77268659e-047, 7.38776614e-194]), array([1., 1., 1., 1., 1., 1., 1., 1., 1., 1., 1., 1., 1., 1., 1., 1., 1.,\n",
      "       1., 1., 1.]))\n"
     ]
    }
   ],
   "source": [
    "model = Model(20, 16)\n",
    "\n",
    "zeros = np.zeros((2, 2))\n",
    "model.set_parameters(zeros, zeros, zeros)\n",
    "\n",
    "print(model.set_inputs(1, 0))\n",
    "curves = model.get_tuning_curves()"
   ]
  },
  {
   "cell_type": "code",
   "execution_count": 3,
   "id": "5a4a666e",
   "metadata": {},
   "outputs": [
    {
     "name": "stderr",
     "output_type": "stream",
     "text": [
      "/mnt/c/Users/maxro/OneDrive/Documents/IIBProject/Code 2/utils_for_max.py:145: RuntimeWarning: overflow encountered in exp\n",
      "  rate[inds] = 1 / ( f_ricci(xp[inds]) + np.exp(xm[inds]**2) * g_ricci(-xm[inds]) )\n"
     ]
    },
    {
     "data": {
      "text/plain": [
       "array([0., 0., 0., 0., 0., 0., 0., 0., 0., 0., 0., 0., 0., 0., 0., 0., 0.,\n",
       "       0., 0., 0.])"
      ]
     },
     "execution_count": 3,
     "metadata": {},
     "output_type": "execute_result"
    }
   ],
   "source": [
    "model.generate_network()\n",
    "model.solve_fixed_point()\n",
    "model.r"
   ]
  },
  {
   "cell_type": "code",
   "execution_count": 4,
   "id": "6bdcaffa",
   "metadata": {},
   "outputs": [
    {
     "data": {
      "text/plain": [
       "array([[[0., 0., 0., ..., 0., 0., 0.],\n",
       "        [0., 0., 0., ..., 0., 0., 0.],\n",
       "        [0., 0., 0., ..., 0., 0., 0.],\n",
       "        ...,\n",
       "        [0., 0., 0., ..., 0., 0., 0.],\n",
       "        [0., 0., 0., ..., 0., 0., 0.],\n",
       "        [0., 0., 0., ..., 0., 0., 0.]],\n",
       "\n",
       "       [[0., 0., 0., ..., 0., 0., 0.],\n",
       "        [0., 0., 0., ..., 0., 0., 0.],\n",
       "        [0., 0., 0., ..., 0., 0., 0.],\n",
       "        ...,\n",
       "        [0., 0., 0., ..., 0., 0., 0.],\n",
       "        [0., 0., 0., ..., 0., 0., 0.],\n",
       "        [0., 0., 0., ..., 0., 0., 0.]],\n",
       "\n",
       "       [[0., 0., 0., ..., 0., 0., 0.],\n",
       "        [0., 0., 0., ..., 0., 0., 0.],\n",
       "        [0., 0., 0., ..., 0., 0., 0.],\n",
       "        ...,\n",
       "        [0., 0., 0., ..., 0., 0., 0.],\n",
       "        [0., 0., 0., ..., 0., 0., 0.],\n",
       "        [0., 0., 0., ..., 0., 0., 0.]],\n",
       "\n",
       "       ...,\n",
       "\n",
       "       [[0., 0., 0., ..., 0., 0., 0.],\n",
       "        [0., 0., 0., ..., 0., 0., 0.],\n",
       "        [0., 0., 0., ..., 0., 0., 0.],\n",
       "        ...,\n",
       "        [0., 0., 0., ..., 0., 0., 0.],\n",
       "        [0., 0., 0., ..., 0., 0., 0.],\n",
       "        [0., 0., 0., ..., 0., 0., 0.]],\n",
       "\n",
       "       [[0., 0., 0., ..., 0., 0., 0.],\n",
       "        [0., 0., 0., ..., 0., 0., 0.],\n",
       "        [0., 0., 0., ..., 0., 0., 0.],\n",
       "        ...,\n",
       "        [0., 0., 0., ..., 0., 0., 0.],\n",
       "        [0., 0., 0., ..., 0., 0., 0.],\n",
       "        [0., 0., 0., ..., 0., 0., 0.]],\n",
       "\n",
       "       [[0., 0., 0., ..., 0., 0., 0.],\n",
       "        [0., 0., 0., ..., 0., 0., 0.],\n",
       "        [0., 0., 0., ..., 0., 0., 0.],\n",
       "        ...,\n",
       "        [0., 0., 0., ..., 0., 0., 0.],\n",
       "        [0., 0., 0., ..., 0., 0., 0.],\n",
       "        [0., 0., 0., ..., 0., 0., 0.]]])"
      ]
     },
     "execution_count": 4,
     "metadata": {},
     "output_type": "execute_result"
    }
   ],
   "source": [
    "curves = model.get_tuning_curves()\n",
    "\n",
    "curves"
   ]
  },
  {
   "cell_type": "code",
   "execution_count": null,
   "id": "80ab9a3c",
   "metadata": {},
   "outputs": [],
   "source": []
  }
 ],
 "metadata": {
  "kernelspec": {
   "display_name": "Python 3",
   "language": "python",
   "name": "python3"
  },
  "language_info": {
   "codemirror_mode": {
    "name": "ipython",
    "version": 3
   },
   "file_extension": ".py",
   "mimetype": "text/x-python",
   "name": "python",
   "nbconvert_exporter": "python",
   "pygments_lexer": "ipython3",
   "version": "3.6.13"
  }
 },
 "nbformat": 4,
 "nbformat_minor": 5
}
