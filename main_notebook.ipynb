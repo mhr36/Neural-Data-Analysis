{
 "cells": [
  {
   "cell_type": "markdown",
   "id": "21e8e220",
   "metadata": {},
   "source": [
    "Let $\\tau_i$ denote the membrane time constant of neuron $i$. Then, up to the approximations related to the assumption of being in an Asynchronous Irregular state, we have the following forumalas for the mean and SD (standard deviation) of the input to different neurons. \n",
    "\n",
    "$\\mu_i = \\tau_i \\sum_j W_{ij} r_j + h_i$\n",
    "\n",
    "$\\sigma^2_i = \\tau_i \\sum_j W_{ij}^2 r_j + \\xi^2_i$\n",
    "\n",
    "where $h_i$ and $\\xi_i$ are the mean (which is positive) and SD of the external input, respectively.\n",
    "\n",
    "And then the output firing rate of each neuron is given by \n",
    "\n",
    "$r_i = \\Phi(\\mu_i, \\sigma_i) \\qquad\\qquad\\qquad$     (1)\n",
    "\n",
    "If I plug in the first two equations (where each is really $N$ equations) in the bottom one (again, really $N$ equations), then I obtain a system of $N$ equations for the $N$ unknowns, namely the $r_i$.  (part of) Your tasks is to solve this ssytem of equations. To do that, we will first promote these to time-dependent ODE's. These are auxiliary tools for us to find the fixed point, and are not really physical:\n",
    "\n",
    "$T_i\\frac{dr_i}{dt} + r_i = \\Phi(\\mu_i, \\sigma_i)$\n",
    "\n",
    "We will then solve these numerically using the Euler method (see my `utils_for_max.py`), and hope that the ODE's will converge onto a fixed point, which satisfies (1). The Euler discretization leads to\n",
    "\n",
    "$r_i(t+1) = (1 - \\alpha_i) r_i(t) + \\alpha_i \\Phi(\\mu_i, \\sigma_i)$\n",
    "\n",
    "where I defined $\\alpha_i = \\frac{\\delta t}{T_i}$. But to use `utils_for_max.Euler2fixedpt` you don't really need to do this, but you need to give it (as `dxdt`) the following:\n",
    "\n",
    "$T_i^{-1} (-r_i + \\Phi(\\mu_i, \\sigma_i))$ with the above expressions for $\\mu$ and $\\sigma$ plugged in. \n",
    "\n",
    "\n",
    "In the rest, I assume that you have already substituted the expressions for $\\mu_i$ and $\\sigma_i$, but won't write them explicitly for brevity.\n",
    "\n",
    "In the \n",
    "\n"
   ]
  },
  {
   "cell_type": "code",
   "execution_count": 1,
   "id": "7a1c015e",
   "metadata": {},
   "outputs": [
    {
     "ename": "ModuleNotFoundError",
     "evalue": "No module named 'pandas'",
     "output_type": "error",
     "traceback": [
      "\u001b[0;31m---------------------------------------------------------------------------\u001b[0m",
      "\u001b[0;31mModuleNotFoundError\u001b[0m                       Traceback (most recent call last)",
      "Cell \u001b[0;32mIn[1], line 3\u001b[0m\n\u001b[1;32m      1\u001b[0m \u001b[38;5;28;01mimport\u001b[39;00m \u001b[38;5;21;01mjax\u001b[39;00m\u001b[38;5;21;01m.\u001b[39;00m\u001b[38;5;21;01mnumpy\u001b[39;00m \u001b[38;5;28;01mas\u001b[39;00m \u001b[38;5;21;01mnp\u001b[39;00m\n\u001b[1;32m      2\u001b[0m \u001b[38;5;28;01mimport\u001b[39;00m \u001b[38;5;21;01mjax\u001b[39;00m\u001b[38;5;21;01m.\u001b[39;00m\u001b[38;5;21;01mrandom\u001b[39;00m \u001b[38;5;28;01mas\u001b[39;00m \u001b[38;5;21;01mjrand\u001b[39;00m\n\u001b[0;32m----> 3\u001b[0m \u001b[38;5;28;01mimport\u001b[39;00m \u001b[38;5;21;01mpandas\u001b[39;00m \u001b[38;5;28;01mas\u001b[39;00m \u001b[38;5;21;01mpd\u001b[39;00m\n\u001b[1;32m      5\u001b[0m \u001b[38;5;28;01mfrom\u001b[39;00m \u001b[38;5;21;01mmodel\u001b[39;00m \u001b[38;5;28;01mimport\u001b[39;00m Model, theta_diff, block_matrix, random_matrix\n\u001b[1;32m      6\u001b[0m \u001b[38;5;28;01mfrom\u001b[39;00m \u001b[38;5;21;01mutils_for_max\u001b[39;00m \u001b[38;5;28;01mimport\u001b[39;00m Phi, Euler2fixedpt\n",
      "\u001b[0;31mModuleNotFoundError\u001b[0m: No module named 'pandas'"
     ]
    }
   ],
   "source": [
    "import jax.numpy as np\n",
    "import jax.random as jrand\n",
    "import pandas as pd\n",
    "\n",
    "from model import Model, theta_diff, block_matrix, random_matrix\n",
    "from utils_for_max import Phi, Euler2fixedpt\n",
    "import utils_for_max\n",
    "import matplotlib.pyplot as plt"
   ]
  },
  {
   "cell_type": "code",
   "execution_count": null,
   "id": "1b445608",
   "metadata": {},
   "outputs": [],
   "source": [
    "# Define model with N_E and N_I\n",
    "model = Model(8000, 2000)\n",
    "\n",
    "# Assigning parameters J, P, w^2\n",
    "J = np.log(np.array([[0.63, 0.6],\n",
    "                    [0.32, 0.25]]))\n",
    "\n",
    "P = np.log(np.array([[0.11, 0.11], \n",
    "                    [0.45, 0.45]]))\n",
    "\n",
    "w = np.log(32) * np.ones([2,2])\n",
    "            \n",
    "model.set_parameters(J, P, w)\n",
    "\n",
    "model.set_inputs(1, 0)\n",
    "\n",
    "plt.scatter(np.array(range(model.N)) - model.N_E, model.h)"
   ]
  },
  {
   "cell_type": "code",
   "execution_count": null,
   "id": "5a4a666e",
   "metadata": {},
   "outputs": [],
   "source": [
    "model.generate_network()\n",
    "model.solve_fixed_point()  # Is producing overflow error!\n",
    "plt.scatter(np.array(range(model.N)) - model.N_E, model.r)"
   ]
  },
  {
   "cell_type": "code",
   "execution_count": null,
   "id": "dba7a484",
   "metadata": {},
   "outputs": [],
   "source": [
    "plt.imshow(model.W, cmap='hot', interpolation='nearest')\n",
    "plt.show()"
   ]
  },
  {
   "cell_type": "code",
   "execution_count": null,
   "id": "6bdcaffa",
   "metadata": {},
   "outputs": [],
   "source": [
    "k_data_path = os.path.join(os.pardir, 'Data', 'K-Data.csv')\n",
    "k_data = pd.read_csv(k_data_path)\n",
    "\n",
    "v1_data = k_data[k_data.region == 'V1']\n",
    "    \n",
    "print(v1_data.m.unique())\n",
    "m = v1_data.m.unique()[2]\n",
    "v1_data = v1_data[v1_data.m == m]\n",
    "print(len(v1_data))\n",
    "\n",
    "v1_data.head()"
   ]
  },
  {
   "cell_type": "code",
   "execution_count": null,
   "id": "19f55c4d",
   "metadata": {},
   "outputs": [],
   "source": [
    "orientations = v1_data.grat_orientation.unique()\n",
    "contrasts = v1_data.grat_contrast.unique()\n",
    "spatial_frequencies = v1_data.grat_spat_freq.unique()\n",
    "phases = v1_data.grat_phase.unique()\n",
    "units = sorted(v1_data.u.unique())"
   ]
  },
  {
   "cell_type": "code",
   "execution_count": null,
   "id": "007e9e34",
   "metadata": {},
   "outputs": [],
   "source": [
    "def oc_matrix(u, freq=None, phase=None):\n",
    "    u_data = v1_data[v1_data.u == u]\n",
    "    \n",
    "    if freq is not None:\n",
    "        u_data = u_data[u_data.grat_spat_freq == freq]\n",
    "    if phase is not None:\n",
    "        u_data = u_data[u_data.grat_phase == phase]\n",
    "    \n",
    "    M = np.zeros((len(orientations), len(contrasts)))\n",
    "    Sd = np.zeros_like(M)\n",
    "    \n",
    "    for i, th in enumerate(orientations):\n",
    "        ori_data = u_data[u_data.grat_orientation == th]\n",
    "        for j, c in enumerate(contrasts):\n",
    "            con_data = ori_data[ori_data.grat_contrast == c]\n",
    "            \n",
    "            M[i,j] = np.mean(con_data.response)\n",
    "            Sd[i,j] = np.std(con_data.response)\n",
    "            \n",
    "    return M, Sd"
   ]
  },
  {
   "cell_type": "code",
   "execution_count": null,
   "id": "98587b4c",
   "metadata": {},
   "outputs": [],
   "source": [
    "tuning_curves = np.array([])\n",
    "\n",
    "for u in units:\n",
    "    for i, spf in enumerate(spatial_frequencies):\n",
    "        M, Sd = oc_matrix(u, spf)\n",
    "        tuning_curves.append(M)\n",
    "\n",
    "model.calculate_loss(tuning_curves)"
   ]
  },
  {
   "cell_type": "markdown",
   "id": "9130e1ea",
   "metadata": {},
   "source": [
    "###### "
   ]
  }
 ],
 "metadata": {
  "kernelspec": {
   "display_name": "Python 3 (ipykernel)",
   "language": "python",
   "name": "python3"
  },
  "language_info": {
   "codemirror_mode": {
    "name": "ipython",
    "version": 3
   },
   "file_extension": ".py",
   "mimetype": "text/x-python",
   "name": "python",
   "nbconvert_exporter": "python",
   "pygments_lexer": "ipython3",
   "version": "3.8.16"
  }
 },
 "nbformat": 4,
 "nbformat_minor": 5
}
