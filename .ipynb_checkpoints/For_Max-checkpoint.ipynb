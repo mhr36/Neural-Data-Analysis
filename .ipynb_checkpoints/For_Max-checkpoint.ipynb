{
 "cells": [
  {
   "cell_type": "markdown",
   "id": "21e8e220",
   "metadata": {},
   "source": [
    "Let $\\tau_i$ denote the membrane time constant of neuron $i$. Then, up to the approximations related to the assumption of being in an Asynchronous Irregular state, we have the following forumalas for the mean and SD (standard deviation) of the input to different neurons. \n",
    "\n",
    "$\\mu_i = \\tau_i \\sum_j W_{ij} r_j + h_i$\n",
    "\n",
    "$\\sigma^2_i = \\tau_i \\sum_j W_{ij}^2 r_j + \\xi^2_i$\n",
    "\n",
    "where $h_i$ and $\\xi_i$ are the mean (which is positive) and SD of the external input, respectively.\n",
    "\n",
    "And then the output firing rate of each neuron is given by \n",
    "\n",
    "$r_i = \\Phi(\\mu_i, \\sigma_i) \\qquad\\qquad\\qquad$     (1)\n",
    "\n",
    "If I plug in the first two equations (where each is really $N$ equations) in the bottom one (again, really $N$ equations), then I obtain a system of $N$ equations for the $N$ unknowns, namely the $r_i$.  (part of) Your tasks is to solve this ssytem of equations. To do that, we will first promote these to time-dependent ODE's. These are auxiliary tools for us to find the fixed point, and are not really physical:\n",
    "\n",
    "$T_i\\frac{dr_i}{dt} + r_i = \\Phi(\\mu_i, \\sigma_i)$\n",
    "\n",
    "We will then solve these numerically using the Euler method (see my `utils_for_max.py`), and hope that the ODE's will converge onto a fixed point, which satisfies (1). The Euler discretization leads to\n",
    "\n",
    "$r_i(t+1) = (1 - \\alpha_i) r_i(t) + \\alpha_i \\Phi(\\mu_i, \\sigma_i)$\n",
    "\n",
    "where I defined $\\alpha_i = \\frac{\\delta t}{T_i}$. But to use `utils_for_max.Euler2fixedpt` you don't really need to do this, but you need to give it (as `dxdt`) the following:\n",
    "\n",
    "$T_i^{-1} (-r_i + \\Phi(\\mu_i, \\sigma_i))$ with the above expressions for $\\mu$ and $\\sigma$ plugged in. \n",
    "\n",
    "\n",
    "In the rest, I assume that you have already substituted the expressions for $\\mu_i$ and $\\sigma_i$, but won't write them explicitly for brevity.\n",
    "\n",
    "In the \n",
    "\n"
   ]
  },
  {
   "cell_type": "code",
   "execution_count": 1,
   "id": "7a1c015e",
   "metadata": {},
   "outputs": [],
   "source": [
    "import numpy as np\n",
    "from utils_for_max import Phi, Euler2fixedpt\n",
    "import utils_for_max"
   ]
  },
  {
   "cell_type": "code",
   "execution_count": 3,
   "id": "fb7ede95",
   "metadata": {},
   "outputs": [],
   "source": [
    "# Parameters chosen by us\n",
    "\n",
    "N = 20\n",
    "\n",
    "# Auxiliary time constants for excitatory and inhibitory\n",
    "T_alpha = 0.5\n",
    "T_E = 0.01\n",
    "T_I = 0.01 * T_alpha\n",
    "\n",
    "# Membrane time constants for excitatory and inhibitory\n",
    "tau_alpha = 1\n",
    "tau_E = 0.01\n",
    "tau_I = 0.01 * tau_alpha"
   ]
  },
  {
   "cell_type": "code",
   "execution_count": 4,
   "id": "e5cb46ff",
   "metadata": {},
   "outputs": [],
   "source": [
    "# [Will be optimised] network structure parameters\n",
    "\n",
    "# Top = to E, left = from E\n",
    "J = np.array([[1, -1],\n",
    "              [1, -1]])\n",
    "# Convention is that the right column is negative\n",
    "# For optimisation we want to impose a positivity constraint\n",
    "\n",
    "P = np.array([[1, 1],\n",
    "              [1, 1]])\n",
    "\n",
    "w = np.array([[1, 1],\n",
    "              [1, 1]])\n"
   ]
  },
  {
   "cell_type": "code",
   "execution_count": 5,
   "id": "e5dd506f",
   "metadata": {},
   "outputs": [],
   "source": [
    "# Randomly generated network\n",
    "\n",
    "# Cell types and random weights\n",
    "N_E = np.int(0.8 * N)\n",
    "N_I = N - N_E\n",
    "cell_types = (np.concatenate([np.zeros(N_E, int), np.ones(N_I, int)]))\n",
    "\n",
    "C = np.random.randint(2, size=(N, N))\n",
    "np.fill_diagonal(C, 0)\n",
    "\n",
    "# Auxiliary time constant vector for all cells\n",
    "T = cell_types * T_I + (1-cell_types) * T_E\n",
    "T_inv = np.reciprocal(T)\n",
    "\n",
    "# Membrane time constant vector for all cells\n",
    "tau = cell_types * tau_I + (1-cell_types) * tau_E\n",
    "\n",
    "# Matrix of J coefficient for each weight in W\n",
    "J_full = np.zeros((N, N))\n",
    "for i in range(N):\n",
    "    for j in range(N):\n",
    "        J_full[i, j] = J[cell_types[i], cell_types[j]]\n",
    "\n",
    "# Weight matrix and squared weight matrix\n",
    "W = J_full * C\n",
    "W2 = np.square(W)\n"
   ]
  },
  {
   "cell_type": "code",
   "execution_count": 6,
   "id": "3fef0b0a",
   "metadata": {},
   "outputs": [],
   "source": [
    "def get_mu_sigma(W, W2, r, h, xi2):\n",
    "    # Find net input mean and variance given inputs\n",
    "    \n",
    "    mu = tau * (W @ r + h)\n",
    "    sigma2 = tau * (W2 @ r + xi2)\n",
    "    \n",
    "    return mu, np.sqrt(sigma2)\n",
    "\n",
    "\n",
    "def dxdt_fun(r):\n",
    "    # Function to feed into Euler solver\n",
    "    \n",
    "    return T_inv * (Phi(*get_mu_sigma(W, W2, r, h, xi2), tau) - r)\n",
    "    "
   ]
  },
  {
   "cell_type": "code",
   "execution_count": 32,
   "id": "1b445608",
   "metadata": {},
   "outputs": [],
   "source": [
    "# Solve\n",
    "\n",
    "r_init = np.ones(N)\n",
    "h = np.ones(N) * 2000 #IS THIS TOO HIGH?\n",
    "xi2 = np.ones(N)\n",
    "\n",
    "R, did_converge = utils_for_max.Euler2fixedpt(dxdt_fun, r_init)"
   ]
  },
  {
   "cell_type": "code",
   "execution_count": 33,
   "id": "2c0a9873",
   "metadata": {},
   "outputs": [
    {
     "data": {
      "text/plain": [
       "(array([20., 20., 20., 20., 20., 20., 20., 20., 20., 20., 20., 20., 20.,\n",
       "        20., 20., 20., 20., 20., 20., 20.]),\n",
       " array([0.1, 0.1, 0.1, 0.1, 0.1, 0.1, 0.1, 0.1, 0.1, 0.1, 0.1, 0.1, 0.1,\n",
       "        0.1, 0.1, 0.1, 0.1, 0.1, 0.1, 0.1]))"
      ]
     },
     "execution_count": 33,
     "metadata": {},
     "output_type": "execute_result"
    }
   ],
   "source": [
    "get_mu_sigma(W, W2, R, h, xi2)"
   ]
  },
  {
   "cell_type": "code",
   "execution_count": 34,
   "id": "bd91b2b1",
   "metadata": {},
   "outputs": [
    {
     "data": {
      "text/plain": [
       "array([-15.92336713, -15.92336713, -15.92336713, -15.92336713,\n",
       "       -15.92336713, -15.92336713, -15.92336713, -15.92336713,\n",
       "       -15.92336713, -15.92336713, -15.92336713, -15.92336713,\n",
       "       -15.92336713, -15.92336713, -15.92336713, -15.92336713,\n",
       "       -15.92336713, -15.92336713, -15.92336713, -15.92336713])"
      ]
     },
     "execution_count": 34,
     "metadata": {},
     "output_type": "execute_result"
    }
   ],
   "source": [
    "print(R)\n",
    "print(Phi(*get_mu_sigma(W, W2, R, h, xi2), tau))\n"
   ]
  },
  {
   "cell_type": "code",
   "execution_count": 28,
   "id": "33e99485",
   "metadata": {},
   "outputs": [
    {
     "data": {
      "text/plain": [
       "array([0.01, 0.01, 0.01, 0.01, 0.01, 0.01, 0.01, 0.01, 0.01, 0.01, 0.01,\n",
       "       0.01, 0.01, 0.01, 0.01, 0.01, 0.01, 0.01, 0.01, 0.01])"
      ]
     },
     "execution_count": 28,
     "metadata": {},
     "output_type": "execute_result"
    }
   ],
   "source": [
    "tau"
   ]
  },
  {
   "cell_type": "code",
   "execution_count": null,
   "id": "ad5c7f12",
   "metadata": {},
   "outputs": [],
   "source": []
  }
 ],
 "metadata": {
  "kernelspec": {
   "display_name": "Python 3",
   "language": "python",
   "name": "python3"
  },
  "language_info": {
   "codemirror_mode": {
    "name": "ipython",
    "version": 3
   },
   "file_extension": ".py",
   "mimetype": "text/x-python",
   "name": "python",
   "nbconvert_exporter": "python",
   "pygments_lexer": "ipython3",
   "version": "3.6.13"
  }
 },
 "nbformat": 4,
 "nbformat_minor": 5
}
